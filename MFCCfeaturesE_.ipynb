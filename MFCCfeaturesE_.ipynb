{
  "nbformat": 4,
  "nbformat_minor": 0,
  "metadata": {
    "colab": {
      "name": "MFCCfeaturesE .ipynb",
      "provenance": [],
      "authorship_tag": "ABX9TyNZxH0cx1D60G9bOvqNV/3U",
      "include_colab_link": true
    },
    "kernelspec": {
      "name": "python3",
      "display_name": "Python 3"
    }
  },
  "cells": [
    {
      "cell_type": "markdown",
      "metadata": {
        "id": "view-in-github",
        "colab_type": "text"
      },
      "source": [
        "<a href=\"https://colab.research.google.com/github/HebahAlshamlan/mfccFeatureExtraction/blob/master/MFCCfeaturesE_.ipynb\" target=\"_parent\"><img src=\"https://colab.research.google.com/assets/colab-badge.svg\" alt=\"Open In Colab\"/></a>"
      ]
    },
    {
      "cell_type": "code",
      "metadata": {
        "id": "uWS8puimKLgN",
        "colab_type": "code",
        "colab": {
          "base_uri": "https://localhost:8080/",
          "height": 177
        },
        "outputId": "528e549a-4af8-4b36-f68a-bdd2ac55b8ad"
      },
      "source": [
        "pip install torchaudio"
      ],
      "execution_count": null,
      "outputs": [
        {
          "output_type": "stream",
          "text": [
            "Collecting torchaudio\n",
            "\u001b[?25l  Downloading https://files.pythonhosted.org/packages/e9/0a/40e53c686c2af65b2a4e818d11d9b76fa79178440caf99f3ceb2a32c3b04/torchaudio-0.5.1-cp36-cp36m-manylinux1_x86_64.whl (3.2MB)\n",
            "\u001b[K     |████████████████████████████████| 3.2MB 2.7MB/s \n",
            "\u001b[?25hRequirement already satisfied: torch==1.5.1 in /usr/local/lib/python3.6/dist-packages (from torchaudio) (1.5.1+cu101)\n",
            "Requirement already satisfied: future in /usr/local/lib/python3.6/dist-packages (from torch==1.5.1->torchaudio) (0.16.0)\n",
            "Requirement already satisfied: numpy in /usr/local/lib/python3.6/dist-packages (from torch==1.5.1->torchaudio) (1.18.5)\n",
            "Installing collected packages: torchaudio\n",
            "Successfully installed torchaudio-0.5.1\n"
          ],
          "name": "stdout"
        }
      ]
    },
    {
      "cell_type": "code",
      "metadata": {
        "id": "cdcSaMhzJcnz",
        "colab_type": "code",
        "colab": {
          "base_uri": "https://localhost:8080/",
          "height": 194
        },
        "outputId": "fa0b3572-76e3-4a17-b11d-4f10cc9eabec"
      },
      "source": [
        "pip install python_speech_features"
      ],
      "execution_count": null,
      "outputs": [
        {
          "output_type": "stream",
          "text": [
            "Collecting python_speech_features\n",
            "  Downloading https://files.pythonhosted.org/packages/ff/d1/94c59e20a2631985fbd2124c45177abaa9e0a4eee8ba8a305aa26fc02a8e/python_speech_features-0.6.tar.gz\n",
            "Building wheels for collected packages: python-speech-features\n",
            "  Building wheel for python-speech-features (setup.py) ... \u001b[?25l\u001b[?25hdone\n",
            "  Created wheel for python-speech-features: filename=python_speech_features-0.6-cp36-none-any.whl size=5887 sha256=aea0b939c93685283c77ff434c9c34638b9a8d4b92e5fbbf0b2824139597e1ec\n",
            "  Stored in directory: /root/.cache/pip/wheels/3c/42/7c/f60e9d1b40015cd69b213ad90f7c18a9264cd745b9888134be\n",
            "Successfully built python-speech-features\n",
            "Installing collected packages: python-speech-features\n",
            "Successfully installed python-speech-features-0.6\n"
          ],
          "name": "stdout"
        }
      ]
    },
    {
      "cell_type": "markdown",
      "metadata": {
        "id": "8ugQfhPwNK7t",
        "colab_type": "text"
      },
      "source": [
        "# One file\n",
        "src: https://python-speech-features.readthedocs.io/en/latest/"
      ]
    },
    {
      "cell_type": "code",
      "metadata": {
        "id": "ynk7nQv0IiSy",
        "colab_type": "code",
        "colab": {
          "base_uri": "https://localhost:8080/",
          "height": 279
        },
        "outputId": "697dd822-bc73-486b-ff1c-e1f27ee66c74"
      },
      "source": [
        "from python_speech_features import mfcc\n",
        "from python_speech_features import logfbank\n",
        "import scipy.io.wavfile as wav\n",
        "import numpy\n",
        "import os\n",
        "\n",
        "(rate,sig) = wav.read(\"/content/test/Recording.wav\")\n",
        "mfcc_feat = mfcc(sig,rate)\n",
        "fbank_feat = logfbank(sig,rate)\n",
        "\n",
        "print(mfcc_feat)\n",
        "outputFile = \"Feature.csv\"\n",
        "file = open(outputFile, 'w+') # make file/over write existing file\n",
        "numpy.savetxt(file, fbank_feat, delimiter=\",\") #save MFCCs as .csv\n",
        "file.close() # close file"
      ],
      "execution_count": null,
      "outputs": [
        {
          "output_type": "stream",
          "text": [
            "WARNING:root:frame length (1103) is greater than FFT size (512), frame will be truncated. Increase NFFT to avoid.\n",
            "WARNING:root:frame length (1103) is greater than FFT size (512), frame will be truncated. Increase NFFT to avoid.\n"
          ],
          "name": "stderr"
        },
        {
          "output_type": "stream",
          "text": [
            "[[-36.04365339   0.           0.         ...   0.           0.\n",
            "    0.        ]\n",
            " [-36.04365339   0.           0.         ...   0.           0.\n",
            "    0.        ]\n",
            " [-36.04365339   0.           0.         ...   0.           0.\n",
            "    0.        ]\n",
            " ...\n",
            " [  5.13905854 -10.66345898   7.80147588 ...   0.29354701   7.15051294\n",
            "   -0.32943786]\n",
            " [  3.77194262 -17.53159877   2.36479084 ...   2.43066961  -0.12534191\n",
            "   -1.05231215]\n",
            " [  1.06861749 -41.43709255 -20.64542989 ... -13.35388018  -3.75710959\n",
            "    1.34715456]]\n"
          ],
          "name": "stdout"
        }
      ]
    },
    {
      "cell_type": "markdown",
      "metadata": {
        "id": "ZmWcgsX2NACY",
        "colab_type": "text"
      },
      "source": [
        "# For multiple  files\n",
        "src: https://github.com/rctatman/getMFCCs"
      ]
    },
    {
      "cell_type": "code",
      "metadata": {
        "id": "VhCEslfSKWwD",
        "colab_type": "code",
        "colab": {
          "base_uri": "https://localhost:8080/",
          "height": 52
        },
        "outputId": "398cff06-de67-472b-c80c-97abeba9c862"
      },
      "source": [
        "# directory where we your .wav files are\n",
        "directoryName = \"/content/test\" # put your own directory here\n",
        "# directory to put our results in, you can change the name if you like\n",
        "resultsDirectory = directoryName + \"/MFCCresults\"\n",
        "\n",
        "# make a new folder in this directory to save our results in\n",
        "if not os.path.exists(resultsDirectory):\n",
        "    os.makedirs(resultsDirectory)\n",
        "\n",
        "# get MFCCs for every .wav file in our specified directory \n",
        "for filename in os.listdir(directoryName):\n",
        "    if filename.endswith('.wav'): # only get MFCCs from .wavs\n",
        "        # read in our file\n",
        "        (rate,sig) = wav.read(directoryName + \"/\" +filename)\n",
        "\n",
        "        # get mfcc\n",
        "        mfcc_feat = mfcc(sig,rate)\n",
        "\n",
        "        # get filterbank energies\n",
        "        fbank_feat = logfbank(sig,rate)\n",
        "\n",
        "        # create a file to save our results in\n",
        "        outputFile = resultsDirectory + \"/\" + os.path.splitext(filename)[0] + \".csv\"\n",
        "        file = open(outputFile, 'w+') # make file/over write existing file\n",
        "        numpy.savetxt(file, fbank_feat, delimiter=\",\") #save MFCCs as .csv\n",
        "        file.close() # close file"
      ],
      "execution_count": null,
      "outputs": [
        {
          "output_type": "stream",
          "text": [
            "WARNING:root:frame length (1103) is greater than FFT size (512), frame will be truncated. Increase NFFT to avoid.\n",
            "WARNING:root:frame length (1103) is greater than FFT size (512), frame will be truncated. Increase NFFT to avoid.\n"
          ],
          "name": "stderr"
        }
      ]
    },
    {
      "cell_type": "code",
      "metadata": {
        "id": "JyQu8mHYMrVC",
        "colab_type": "code",
        "colab": {}
      },
      "source": [
        ""
      ],
      "execution_count": null,
      "outputs": []
    },
    {
      "cell_type": "markdown",
      "metadata": {
        "id": "0rJjIMofO3xu",
        "colab_type": "text"
      },
      "source": [
        "# Testing\n",
        "don't run this part just for exploring"
      ]
    },
    {
      "cell_type": "code",
      "metadata": {
        "id": "kPqdzHSyINiC",
        "colab_type": "code",
        "colab": {
          "base_uri": "https://localhost:8080/",
          "height": 326
        },
        "outputId": "49f28afd-96bb-4807-a540-59cbd836a77d"
      },
      "source": [
        "from torchaudio.transforms import MelScale, Spectrogram\n",
        "def melspecfunc(waveform, hp=None):\n",
        "    # hp = hp \n",
        "\n",
        "    specfunc = Spectrogram(n_fft=hp.n_fft,\n",
        "                           win_length=hp.win_length,\n",
        "                           hop_length=hp.hop_length,\n",
        "                           pad=0, power=hp.power,\n",
        "                           normalized=True).forward\n",
        "    melfunc = MelScale(n_mels=hp.num_mels,\n",
        "                       sample_rate=hp.sample_rate,\n",
        "                       f_min=0.).forward\n",
        "\n",
        "    specgram = specfunc(waveform)\n",
        "    mel_specgram = melfunc(specgram)\n",
        "    return mel_specgram\n",
        "melspecfunc(fbank_feat)"
      ],
      "execution_count": null,
      "outputs": [
        {
          "output_type": "error",
          "ename": "AttributeError",
          "evalue": "ignored",
          "traceback": [
            "\u001b[0;31m---------------------------------------------------------------------------\u001b[0m",
            "\u001b[0;31mAttributeError\u001b[0m                            Traceback (most recent call last)",
            "\u001b[0;32m<ipython-input-21-516f726d6352>\u001b[0m in \u001b[0;36m<module>\u001b[0;34m()\u001b[0m\n\u001b[1;32m     15\u001b[0m     \u001b[0mmel_specgram\u001b[0m \u001b[0;34m=\u001b[0m \u001b[0mmelfunc\u001b[0m\u001b[0;34m(\u001b[0m\u001b[0mspecgram\u001b[0m\u001b[0;34m)\u001b[0m\u001b[0;34m\u001b[0m\u001b[0;34m\u001b[0m\u001b[0m\n\u001b[1;32m     16\u001b[0m     \u001b[0;32mreturn\u001b[0m \u001b[0mmel_specgram\u001b[0m\u001b[0;34m\u001b[0m\u001b[0;34m\u001b[0m\u001b[0m\n\u001b[0;32m---> 17\u001b[0;31m \u001b[0mmelspecfunc\u001b[0m\u001b[0;34m(\u001b[0m\u001b[0mfbank_feat\u001b[0m\u001b[0;34m)\u001b[0m\u001b[0;34m\u001b[0m\u001b[0;34m\u001b[0m\u001b[0m\n\u001b[0m",
            "\u001b[0;32m<ipython-input-21-516f726d6352>\u001b[0m in \u001b[0;36mmelspecfunc\u001b[0;34m(waveform, hp)\u001b[0m\n\u001b[1;32m      4\u001b[0m \u001b[0;34m\u001b[0m\u001b[0m\n\u001b[1;32m      5\u001b[0m     specfunc = Spectrogram(\n\u001b[0;32m----> 6\u001b[0;31m                            \u001b[0mwin_length\u001b[0m\u001b[0;34m=\u001b[0m\u001b[0mhp\u001b[0m\u001b[0;34m.\u001b[0m\u001b[0mwin_length\u001b[0m\u001b[0;34m,\u001b[0m\u001b[0;34m\u001b[0m\u001b[0;34m\u001b[0m\u001b[0m\n\u001b[0m\u001b[1;32m      7\u001b[0m                            \u001b[0mhop_length\u001b[0m\u001b[0;34m=\u001b[0m\u001b[0mhp\u001b[0m\u001b[0;34m.\u001b[0m\u001b[0mhop_length\u001b[0m\u001b[0;34m,\u001b[0m\u001b[0;34m\u001b[0m\u001b[0;34m\u001b[0m\u001b[0m\n\u001b[1;32m      8\u001b[0m                            \u001b[0mpad\u001b[0m\u001b[0;34m=\u001b[0m\u001b[0;36m0\u001b[0m\u001b[0;34m,\u001b[0m \u001b[0mpower\u001b[0m\u001b[0;34m=\u001b[0m\u001b[0mhp\u001b[0m\u001b[0;34m.\u001b[0m\u001b[0mpower\u001b[0m\u001b[0;34m,\u001b[0m\u001b[0;34m\u001b[0m\u001b[0;34m\u001b[0m\u001b[0m\n",
            "\u001b[0;31mAttributeError\u001b[0m: 'NoneType' object has no attribute 'win_length'"
          ]
        }
      ]
    },
    {
      "cell_type": "code",
      "metadata": {
        "id": "lvpwXcx_QROB",
        "colab_type": "code",
        "colab": {}
      },
      "source": [
        ""
      ],
      "execution_count": null,
      "outputs": []
    }
  ]
}